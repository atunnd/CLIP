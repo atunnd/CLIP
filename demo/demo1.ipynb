{
 "cells": [
  {
   "cell_type": "code",
   "execution_count": 2,
   "metadata": {},
   "outputs": [
    {
     "name": "stderr",
     "output_type": "stream",
     "text": [
      "e:\\Anaconda\\envs\\pinecone\\lib\\site-packages\\pinecone\\data\\index.py:1: TqdmWarning: IProgress not found. Please update jupyter and ipywidgets. See https://ipywidgets.readthedocs.io/en/stable/user_install.html\n",
      "  from tqdm.autonotebook import tqdm\n"
     ]
    }
   ],
   "source": [
    "import pinecone\n",
    "import numpy as np\n",
    "import pandas as pd"
   ]
  },
  {
   "cell_type": "code",
   "execution_count": 3,
   "metadata": {},
   "outputs": [
    {
     "data": {
      "text/html": [
       "<div>\n",
       "<style scoped>\n",
       "    .dataframe tbody tr th:only-of-type {\n",
       "        vertical-align: middle;\n",
       "    }\n",
       "\n",
       "    .dataframe tbody tr th {\n",
       "        vertical-align: top;\n",
       "    }\n",
       "\n",
       "    .dataframe thead th {\n",
       "        text-align: right;\n",
       "    }\n",
       "</style>\n",
       "<table border=\"1\" class=\"dataframe\">\n",
       "  <thead>\n",
       "    <tr style=\"text-align: right;\">\n",
       "      <th></th>\n",
       "      <th>text</th>\n",
       "    </tr>\n",
       "  </thead>\n",
       "  <tbody>\n",
       "    <tr>\n",
       "      <th>0</th>\n",
       "      <td>The future king is the prince</td>\n",
       "    </tr>\n",
       "    <tr>\n",
       "      <th>1</th>\n",
       "      <td>Daughter is the princess</td>\n",
       "    </tr>\n",
       "    <tr>\n",
       "      <th>2</th>\n",
       "      <td>Son is the prince</td>\n",
       "    </tr>\n",
       "    <tr>\n",
       "      <th>3</th>\n",
       "      <td>Only a man can be a king</td>\n",
       "    </tr>\n",
       "    <tr>\n",
       "      <th>4</th>\n",
       "      <td>Only a woman can be a queen</td>\n",
       "    </tr>\n",
       "    <tr>\n",
       "      <th>5</th>\n",
       "      <td>The princess will be a queen</td>\n",
       "    </tr>\n",
       "    <tr>\n",
       "      <th>6</th>\n",
       "      <td>Queen and king rule the realm</td>\n",
       "    </tr>\n",
       "    <tr>\n",
       "      <th>7</th>\n",
       "      <td>The prince is a strong man</td>\n",
       "    </tr>\n",
       "    <tr>\n",
       "      <th>8</th>\n",
       "      <td>The princess is a beautiful woman</td>\n",
       "    </tr>\n",
       "    <tr>\n",
       "      <th>9</th>\n",
       "      <td>The royal family is the king and queen and the...</td>\n",
       "    </tr>\n",
       "    <tr>\n",
       "      <th>10</th>\n",
       "      <td>Prince is only a boy now</td>\n",
       "    </tr>\n",
       "    <tr>\n",
       "      <th>11</th>\n",
       "      <td>A boy will be a man</td>\n",
       "    </tr>\n",
       "  </tbody>\n",
       "</table>\n",
       "</div>"
      ],
      "text/plain": [
       "                                                 text\n",
       "0                       The future king is the prince\n",
       "1                           Daughter is the princess \n",
       "2                                   Son is the prince\n",
       "3                           Only a man can be a king \n",
       "4                         Only a woman can be a queen\n",
       "5                        The princess will be a queen\n",
       "6                       Queen and king rule the realm\n",
       "7                          The prince is a strong man\n",
       "8                  The princess is a beautiful woman \n",
       "9   The royal family is the king and queen and the...\n",
       "10                           Prince is only a boy now\n",
       "11                                A boy will be a man"
      ]
     },
     "execution_count": 3,
     "metadata": {},
     "output_type": "execute_result"
    }
   ],
   "source": [
    "sample = pd.read_csv('../data/sample.csv')\n",
    "sample"
   ]
  },
  {
   "cell_type": "code",
   "execution_count": 21,
   "metadata": {},
   "outputs": [
    {
     "data": {
      "text/html": [
       "<div>\n",
       "<style scoped>\n",
       "    .dataframe tbody tr th:only-of-type {\n",
       "        vertical-align: middle;\n",
       "    }\n",
       "\n",
       "    .dataframe tbody tr th {\n",
       "        vertical-align: top;\n",
       "    }\n",
       "\n",
       "    .dataframe thead th {\n",
       "        text-align: right;\n",
       "    }\n",
       "</style>\n",
       "<table border=\"1\" class=\"dataframe\">\n",
       "  <thead>\n",
       "    <tr style=\"text-align: right;\">\n",
       "      <th></th>\n",
       "      <th>keys</th>\n",
       "      <th>values</th>\n",
       "    </tr>\n",
       "  </thead>\n",
       "  <tbody>\n",
       "    <tr>\n",
       "      <th>0</th>\n",
       "      <td>beautiful</td>\n",
       "      <td>[0.9838497638702393, -1.6587189435958862]</td>\n",
       "    </tr>\n",
       "    <tr>\n",
       "      <th>1</th>\n",
       "      <td>boy</td>\n",
       "      <td>[-1.5598138570785522, -0.11537443846464157]</td>\n",
       "    </tr>\n",
       "    <tr>\n",
       "      <th>2</th>\n",
       "      <td>can</td>\n",
       "      <td>[-0.429669052362442, 0.8653393983840942]</td>\n",
       "    </tr>\n",
       "    <tr>\n",
       "      <th>3</th>\n",
       "      <td>children</td>\n",
       "      <td>[1.0019017457962036, -0.02745703235268593]</td>\n",
       "    </tr>\n",
       "    <tr>\n",
       "      <th>4</th>\n",
       "      <td>daughter</td>\n",
       "      <td>[1.2124338150024414, -1.6305664777755737]</td>\n",
       "    </tr>\n",
       "    <tr>\n",
       "      <th>5</th>\n",
       "      <td>family</td>\n",
       "      <td>[0.9203447103500366, 1.5682507753372192]</td>\n",
       "    </tr>\n",
       "    <tr>\n",
       "      <th>6</th>\n",
       "      <td>future</td>\n",
       "      <td>[-0.9258182644844055, 0.3344442844390869]</td>\n",
       "    </tr>\n",
       "    <tr>\n",
       "      <th>7</th>\n",
       "      <td>king</td>\n",
       "      <td>[0.6992722749710083, -0.06783338636159897]</td>\n",
       "    </tr>\n",
       "    <tr>\n",
       "      <th>8</th>\n",
       "      <td>man</td>\n",
       "      <td>[-0.801942765712738, 0.4273762106895447]</td>\n",
       "    </tr>\n",
       "    <tr>\n",
       "      <th>9</th>\n",
       "      <td>now</td>\n",
       "      <td>[-1.0517592430114746, 1.4044568538665771]</td>\n",
       "    </tr>\n",
       "    <tr>\n",
       "      <th>10</th>\n",
       "      <td>only</td>\n",
       "      <td>[-1.1261903047561646, -1.1733978986740112]</td>\n",
       "    </tr>\n",
       "    <tr>\n",
       "      <th>11</th>\n",
       "      <td>prince</td>\n",
       "      <td>[-0.014826943166553974, 1.2010029554367065]</td>\n",
       "    </tr>\n",
       "    <tr>\n",
       "      <th>12</th>\n",
       "      <td>princess</td>\n",
       "      <td>[0.7874786257743835, -1.1477224826812744]</td>\n",
       "    </tr>\n",
       "    <tr>\n",
       "      <th>13</th>\n",
       "      <td>queen</td>\n",
       "      <td>[0.6614691615104675, -0.4165874123573303]</td>\n",
       "    </tr>\n",
       "    <tr>\n",
       "      <th>14</th>\n",
       "      <td>realm</td>\n",
       "      <td>[0.2802084684371948, 1.200094223022461]</td>\n",
       "    </tr>\n",
       "    <tr>\n",
       "      <th>15</th>\n",
       "      <td>royal</td>\n",
       "      <td>[-0.023975063115358353, 0.8417088985443115]</td>\n",
       "    </tr>\n",
       "    <tr>\n",
       "      <th>16</th>\n",
       "      <td>rule</td>\n",
       "      <td>[1.0308167934417725, 0.9422696232795715]</td>\n",
       "    </tr>\n",
       "    <tr>\n",
       "      <th>17</th>\n",
       "      <td>son</td>\n",
       "      <td>[-0.8190408945083618, -0.8789239525794983]</td>\n",
       "    </tr>\n",
       "    <tr>\n",
       "      <th>18</th>\n",
       "      <td>strong</td>\n",
       "      <td>[-1.0741701126098633, -0.4627572298049927]</td>\n",
       "    </tr>\n",
       "    <tr>\n",
       "      <th>19</th>\n",
       "      <td>their</td>\n",
       "      <td>[0.6947928071022034, 0.9626272320747375]</td>\n",
       "    </tr>\n",
       "    <tr>\n",
       "      <th>20</th>\n",
       "      <td>woman</td>\n",
       "      <td>[0.3819427788257599, -0.9049990177154541]</td>\n",
       "    </tr>\n",
       "  </tbody>\n",
       "</table>\n",
       "</div>"
      ],
      "text/plain": [
       "         keys                                       values\n",
       "0   beautiful    [0.9838497638702393, -1.6587189435958862]\n",
       "1         boy  [-1.5598138570785522, -0.11537443846464157]\n",
       "2         can     [-0.429669052362442, 0.8653393983840942]\n",
       "3    children   [1.0019017457962036, -0.02745703235268593]\n",
       "4    daughter    [1.2124338150024414, -1.6305664777755737]\n",
       "5      family     [0.9203447103500366, 1.5682507753372192]\n",
       "6      future    [-0.9258182644844055, 0.3344442844390869]\n",
       "7        king   [0.6992722749710083, -0.06783338636159897]\n",
       "8         man     [-0.801942765712738, 0.4273762106895447]\n",
       "9         now    [-1.0517592430114746, 1.4044568538665771]\n",
       "10       only   [-1.1261903047561646, -1.1733978986740112]\n",
       "11     prince  [-0.014826943166553974, 1.2010029554367065]\n",
       "12   princess    [0.7874786257743835, -1.1477224826812744]\n",
       "13      queen    [0.6614691615104675, -0.4165874123573303]\n",
       "14      realm      [0.2802084684371948, 1.200094223022461]\n",
       "15      royal  [-0.023975063115358353, 0.8417088985443115]\n",
       "16       rule     [1.0308167934417725, 0.9422696232795715]\n",
       "17        son   [-0.8190408945083618, -0.8789239525794983]\n",
       "18     strong   [-1.0741701126098633, -0.4627572298049927]\n",
       "19      their     [0.6947928071022034, 0.9626272320747375]\n",
       "20      woman    [0.3819427788257599, -0.9049990177154541]"
      ]
     },
     "execution_count": 21,
     "metadata": {},
     "output_type": "execute_result"
    }
   ],
   "source": [
    "df = pd.read_csv(\"../data/embedding_dict.csv\")\n",
    "df"
   ]
  },
  {
   "cell_type": "code",
   "execution_count": 33,
   "metadata": {},
   "outputs": [
    {
     "name": "stdout",
     "output_type": "stream",
     "text": [
      "[0.9838497638702391, -1.6587189435958862]\n",
      "[-1.5598138570785522, -0.1153744384646415]\n",
      "[-0.429669052362442, -0.8653393983840942]\n",
      "[1.0019017457962036, -0.0274570323526859]\n",
      "[1.2124338150024414, -1.6305664777755735]\n",
      "[0.9203447103500366, -1.5682507753372192]\n",
      "[-0.9258182644844056, -0.3344442844390869]\n",
      "[0.6992722749710083, -0.0678333863615989]\n",
      "[-0.801942765712738, -0.4273762106895447]\n",
      "[-1.0517592430114746, -1.4044568538665771]\n",
      "[-1.1261903047561646, -1.1733978986740112]\n",
      "[-0.0148269431665539, -1.2010029554367063]\n",
      "[0.7874786257743835, -1.1477224826812744]\n",
      "[0.6614691615104675, -0.4165874123573303]\n",
      "[0.2802084684371948, -1.200094223022461]\n",
      "[-0.0239750631153583, -0.8417088985443115]\n",
      "[1.0308167934417725, -0.9422696232795716]\n",
      "[-0.8190408945083618, -0.8789239525794983]\n",
      "[-1.0741701126098633, -0.4627572298049927]\n",
      "[0.6947928071022034, -0.9626272320747375]\n",
      "[0.3819427788257599, -0.904999017715454]\n"
     ]
    }
   ],
   "source": [
    "import numpy as np\n",
    "import pandas as pd\n",
    "\n",
    "rows = df['values']\n",
    "embeddings = []\n",
    "for j in rows:\n",
    "    list1 = j\n",
    "    num1 = ''\n",
    "    pos1 = False\n",
    "    flag = True\n",
    "    num2 = ''\n",
    "    pos1 = False\n",
    "    temp = df['values'].str.strip('[]')\n",
    "    for i in list1:\n",
    "        if i == '[' or i == ']':\n",
    "            continue\n",
    "        if i == ',':\n",
    "           flag = False\n",
    "           continue\n",
    "        if flag:\n",
    "           if i == '-':\n",
    "               pos1=True\n",
    "               continue\n",
    "           num1 = num1+i\n",
    "        else:\n",
    "           if i == '-':\n",
    "               pos2=True\n",
    "               continue\n",
    "           num2 = num2+i\n",
    "    num1 = pd.to_numeric(num1)\n",
    "    num2 = pd.to_numeric(num2)\n",
    "    if pos1:\n",
    "        num1 *= -1\n",
    "    if pos2:\n",
    "        num2 *= -1\n",
    "    vector = [num1, num2]\n",
    "    embeddings.append(vector)\n",
    "    print(vector)"
   ]
  },
  {
   "cell_type": "code",
   "execution_count": 49,
   "metadata": {},
   "outputs": [],
   "source": [
    "embeddings = np.array(embeddings).astype(float)"
   ]
  },
  {
   "cell_type": "code",
   "execution_count": 13,
   "metadata": {},
   "outputs": [],
   "source": [
    "from pinecone import Pinecone, ServerlessSpec\n",
    "from tqdm.autonotebook import tqdm\n",
    "\n",
    "pc = Pinecone(api_key=\"508a1fea-8fd8-4b51-ae51-053df59dd9a7\")"
   ]
  },
  {
   "cell_type": "code",
   "execution_count": 36,
   "metadata": {},
   "outputs": [],
   "source": [
    "pc.create_index(\n",
    "    \"demo\", \n",
    "    dimension=2, \n",
    "    metric=\"dotproduct\", \n",
    "    spec=ServerlessSpec(\n",
    "        cloud='aws',\n",
    "        region='us-east-1'\n",
    "    )\n",
    ")\n",
    "# initialize index\n",
    "index = pc.Index(\"demo\")"
   ]
  },
  {
   "cell_type": "code",
   "execution_count": 37,
   "metadata": {},
   "outputs": [
    {
     "data": {
      "text/plain": [
       "{'dimension': 2,\n",
       " 'index_fullness': 0.0,\n",
       " 'namespaces': {},\n",
       " 'total_vector_count': 0}"
      ]
     },
     "execution_count": 37,
     "metadata": {},
     "output_type": "execute_result"
    }
   ],
   "source": [
    "index.describe_index_stats()"
   ]
  },
  {
   "cell_type": "code",
   "execution_count": 50,
   "metadata": {},
   "outputs": [
    {
     "data": {
      "text/plain": [
       "{'upserted_count': 21}"
      ]
     },
     "execution_count": 50,
     "metadata": {},
     "output_type": "execute_result"
    }
   ],
   "source": [
    "index.upsert(\n",
    "    vectors = zip(df['keys'], embeddings),\n",
    "    namespace='ns3'\n",
    ")"
   ]
  },
  {
   "cell_type": "code",
   "execution_count": 52,
   "metadata": {},
   "outputs": [
    {
     "data": {
      "text/plain": [
       "{'matches': [{'id': 'boy', 'score': 2.44633031, 'values': []},\n",
       "             {'id': 'only', 'score': 1.89202738, 'values': []},\n",
       "             {'id': 'now', 'score': 1.80258703, 'values': []},\n",
       "             {'id': 'strong', 'score': 1.72889578, 'values': []},\n",
       "             {'id': 'future', 'score': 1.48269057, 'values': []},\n",
       "             {'id': 'son', 'score': 1.37895668, 'values': []},\n",
       "             {'id': 'man', 'score': 1.30018973, 'values': []},\n",
       "             {'id': 'can', 'score': 0.770041823, 'values': []},\n",
       "             {'id': 'prince', 'score': 0.161692321, 'values': []},\n",
       "             {'id': 'royal', 'score': 0.134508327, 'values': []}],\n",
       " 'namespace': 'ns3',\n",
       " 'usage': {'read_units': 5}}"
      ]
     },
     "execution_count": 52,
     "metadata": {},
     "output_type": "execute_result"
    }
   ],
   "source": [
    "index.query(\n",
    "    namespace='ns3',\n",
    "    vector=[-1.5598138570785522, -0.11537443846464157],\n",
    "    top_k = 10,\n",
    "\n",
    ")"
   ]
  }
 ],
 "metadata": {
  "kernelspec": {
   "display_name": "pinecone",
   "language": "python",
   "name": "python3"
  },
  "language_info": {
   "codemirror_mode": {
    "name": "ipython",
    "version": 3
   },
   "file_extension": ".py",
   "mimetype": "text/x-python",
   "name": "python",
   "nbconvert_exporter": "python",
   "pygments_lexer": "ipython3",
   "version": "3.10.0"
  }
 },
 "nbformat": 4,
 "nbformat_minor": 2
}
